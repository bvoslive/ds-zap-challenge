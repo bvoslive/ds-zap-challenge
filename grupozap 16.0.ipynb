{
 "cells": [
  {
   "cell_type": "markdown",
   "metadata": {},
   "source": [
    "    1 Você utilizaria a métrica escolhida para seleção de modelo também para comunicar os resultados para usuários e stakeholders internos? Em caso negativo, qual outra métrica você utilizaria nesse caso?\n",
    "\n",
    "A métrica que eu utilizaria para analisar o desempenho seria o RMSE, mas para apresentar aos stakeholders, eu utilizaria o MAPE, devido a facilidade de interpretação\n",
    "\n",
    "    2 Em quais bairros ou em quais faixas de preço o seu modelo performa melhor?\n",
    "\n",
    "Para esta pergunta, foi escolhida a melhor faixa de preço, o valor foi dividido em faixas de  100 (reais), e o melhor desempenho está na faixa entre 500 - 600 (reais)\n",
    "\n",
    "    3 Se você tivesse que estimar o valor dos imóveis com apenas 3 campos, quais seriam eles?\n",
    "\n",
    "1.Tipo (Aluguel ou Venda)\n",
    "\n",
    "2.Banheiros\n",
    "\n",
    "3.Área utilizável\n",
    "\n",
    "    4 Como você vislumbra colocar a sua solução em produção?\n",
    "\n",
    "Imagino que no website do GrupoZap, após o anunciante preencher as características do imóvel, fosse recomendado uma faixa de preço para ele.\n"
   ]
  },
  {
   "cell_type": "code",
   "execution_count": 1,
   "metadata": {},
   "outputs": [],
   "source": [
    "#IMPPORTANDO BIBLIOTECAS\n",
    "import pandas as pd\n",
    "import numpy as np\n",
    "import datetime\n",
    "import seaborn as sns\n",
    "import matplotlib.pyplot as plt\n",
    "from scipy import stats\n",
    "import statsmodels.formula.api as sm\n",
    "\n",
    "from sklearn.ensemble import GradientBoostingRegressor, AdaBoostRegressor\n",
    "from sklearn.metrics import mean_squared_error\n",
    "from sklearn.preprocessing import StandardScaler, LabelEncoder, OneHotEncoder, MinMaxScaler"
   ]
  },
  {
   "cell_type": "code",
   "execution_count": 2,
   "metadata": {},
   "outputs": [],
   "source": [
    "#IMPORTANDO DATASET\n",
    "import json\n",
    "    \n",
    "data = []\n",
    "with open('F:/Bruno 02/Datasets/GrupoZap/source-4-ds-train.json', encoding=\"utf8\") as f:\n",
    "    for line in f:\n",
    "        data.append(json.loads(line))\n",
    "        \n",
    "df = pd.DataFrame(data)"
   ]
  },
  {
   "cell_type": "markdown",
   "metadata": {},
   "source": [
    "## Organizando Dataframe"
   ]
  },
  {
   "cell_type": "code",
   "execution_count": 3,
   "metadata": {},
   "outputs": [
    {
     "name": "stdout",
     "output_type": "stream",
     "text": [
      "São Paulo         133714\n",
      "SP                   246\n",
      "                       3\n",
      "Santa Catarina         1\n",
      "dtype: int64\n"
     ]
    }
   ],
   "source": [
    "\n",
    "state = []\n",
    "for i in range(len(df)):\n",
    "    state.append(df['address'][i]['state'])\n",
    "    \n",
    "state = pd.Series(state)\n",
    "\n",
    "print(state.value_counts())\n",
    "\n",
    "#deletando Santa Catarina\n",
    "df = df.drop(9840, axis=0)\n",
    "df = df.reset_index(drop=True)\n",
    "\n",
    "\n",
    "#função\n",
    "def insere(db, cam1, cam2):\n",
    "    vetor = []\n",
    "    for i in range(len(db)):\n",
    "        try:\n",
    "            vetor.append(df[cam1][i][cam2])\n",
    "        except:\n",
    "            vetor.append(np.nan)\n",
    "    return vetor\n",
    "     \n",
    "\n",
    "logradouro = []\n",
    "for i in range(len(df)):\n",
    "    try:\n",
    "        logradouro.append(str.split(df['address'][i]['street'])[0])\n",
    "    except:\n",
    "        logradouro.append(np.nan)\n",
    "\n",
    "\n",
    "bairro = []\n",
    "for i in range(len(df)):\n",
    "    try:\n",
    "        bairro.append(str.split(data[i]['address']['locationId'], \">\")[-1])\n",
    "    except:\n",
    "        bairro.append(np.nan)\n",
    " \n",
    "lon = []\n",
    "lat = []\n",
    "for i in range(len(df)):\n",
    "    try:\n",
    "        lon.append(df['address'][i]['geoLocation']['location']['lon'])\n",
    "        lat.append(df['address'][i]['geoLocation']['location']['lat'])  \n",
    "    except:  \n",
    "        lon.append(np.NaN)\n",
    "        lat.append(np.NaN)   \n",
    "\n",
    "df['zone'] = insere(df, 'address', 'zone')\n",
    "df['tipo'] = insere(df, 'pricingInfos', 'businessType')\n",
    "df['price'] = insere(df, 'pricingInfos', 'price')\n",
    "df['logradouro'] = logradouro\n",
    "df['bairro'] = bairro\n",
    "df['lat'] = lat\n",
    "df['lon'] = lon"
   ]
  },
  {
   "cell_type": "code",
   "execution_count": 4,
   "metadata": {},
   "outputs": [],
   "source": [
    "#Vamos deletar algumas colunas que serão desnecessárias\n",
    "df = df.drop(['address', 'createdAt', 'description', 'id', 'images', 'listingStatus',\n",
    "               'pricingInfos', 'publisherId', 'title', 'updatedAt'], axis=1)\n"
   ]
  },
  {
   "cell_type": "code",
   "execution_count": 5,
   "metadata": {},
   "outputs": [
    {
     "name": "stdout",
     "output_type": "stream",
     "text": [
      "<class 'pandas.core.frame.DataFrame'>\n",
      "RangeIndex: 133963 entries, 0 to 133962\n",
      "Data columns (total 16 columns):\n",
      "bathrooms          133050 non-null float64\n",
      "bedrooms           130944 non-null float64\n",
      "owner              133963 non-null bool\n",
      "parkingSpaces      129538 non-null float64\n",
      "publicationType    133963 non-null object\n",
      "suites             120346 non-null float64\n",
      "totalAreas         91131 non-null float64\n",
      "unitTypes          133963 non-null object\n",
      "usableAreas        133210 non-null float64\n",
      "zone               133963 non-null object\n",
      "tipo               133963 non-null object\n",
      "price              133963 non-null int64\n",
      "logradouro         126961 non-null object\n",
      "bairro             133963 non-null object\n",
      "lat                133952 non-null float64\n",
      "lon                133952 non-null float64\n",
      "dtypes: bool(1), float64(8), int64(1), object(6)\n",
      "memory usage: 15.5+ MB\n"
     ]
    }
   ],
   "source": [
    "df.info()\n",
    "\"\"\"\n",
    "Como há poucos nulos na maioria das features\n",
    "excluiu-se estes registros\n",
    "\"\"\"\n",
    "df = df.dropna()\n",
    "df = df.reset_index()"
   ]
  },
  {
   "cell_type": "code",
   "execution_count": 6,
   "metadata": {},
   "outputs": [
    {
     "data": {
      "image/png": "[encoded data removed]",
      "text/plain": [
       "<Figure size 432x288 with 1 Axes>"
      ]
     },
     "metadata": {
      "needs_background": "light"
     },
     "output_type": "display_data"
    },
    {
     "data": {
      "image/png": "[encoded data removed]",
      "text/plain": [
       "<Figure size 432x288 with 1 Axes>"
      ]
     },
     "metadata": {
      "needs_background": "light"
     },
     "output_type": "display_data"
    },
    {
     "name": "stderr",
     "output_type": "stream",
     "text": [
      "c:\\users\\bruno\\appdata\\local\\programs\\python\\python36\\lib\\site-packages\\ipykernel_launcher.py:11: RuntimeWarning: divide by zero encountered in log\n",
      "  # This is added back by InteractiveShellApp.init_path()\n"
     ]
    }
   ],
   "source": [
    "sns.distplot(df['price'])\n",
    "plt.show()\n",
    "sns.distplot(df['usableAreas'])\n",
    "plt.show()\n",
    "\n",
    "\"\"\"\n",
    "As duas features do tipo contínua não estão normalizadas\n",
    "\"\"\"\n",
    "\n",
    "df['price'] = np.log(df['price'])\n",
    "df['usableAreas'] = np.log(df['usableAreas'])"
   ]
  },
  {
   "cell_type": "code",
   "execution_count": 7,
   "metadata": {},
   "outputs": [
    {
     "name": "stderr",
     "output_type": "stream",
     "text": [
      "c:\\users\\bruno\\appdata\\local\\programs\\python\\python36\\lib\\site-packages\\ipykernel_launcher.py:6: RuntimeWarning: divide by zero encountered in log\n",
      "  \n",
      "c:\\users\\bruno\\appdata\\local\\programs\\python\\python36\\lib\\site-packages\\ipykernel_launcher.py:6: RuntimeWarning: invalid value encountered in log\n",
      "  \n"
     ]
    }
   ],
   "source": [
    "\"\"\"\n",
    "A normalização de usableAreas produziu alguns valores infinitos\n",
    "Eliminou-se eles\n",
    "\"\"\"\n",
    "\n",
    "df['usableAreas'] = np.log(df['usableAreas'])\n",
    "df['usableAreas'] = df['usableAreas'].replace([np.inf, -np.inf], np.nan)\n",
    "df = df.dropna()\n",
    "\n"
   ]
  },
  {
   "cell_type": "code",
   "execution_count": 8,
   "metadata": {},
   "outputs": [],
   "source": [
    "#No campo Zone há alguns nulos, preencheu-se estes campos com base nos bairros\n",
    "\n",
    "preenche_zone = df.copy()\n",
    "preenche_zone = preenche_zone[preenche_zone['zone']!=\"\"]\n",
    "preenche_zone = dict(zip(preenche_zone['bairro'], preenche_zone['zone']))\n",
    "df['zone'] = df['bairro'].map(preenche_zone) "
   ]
  },
  {
   "cell_type": "markdown",
   "metadata": {},
   "source": [
    "### Verificação das features de Localização"
   ]
  },
  {
   "cell_type": "markdown",
   "metadata": {},
   "source": [
    "Ao utilizar as features bairro, latitude, longitude, iria-se gerar muitas dummy variables, por isso foi averiguado se estas features tem relação com a variável preço"
   ]
  },
  {
   "cell_type": "code",
   "execution_count": null,
   "metadata": {},
   "outputs": [],
   "source": [
    "geo = df[['lat', 'lon', 'price']]\n",
    "geo = geo.sample(frac=0.8)\n",
    "geo = geo.dropna()\n",
    "geo = geo.reset_index(drop=True)\n",
    "from sklearn.cluster import KMeans\n",
    "kmeans = KMeans(n_clusters = 15, init = 'k-means++', random_state = 0)\n",
    "y_kmeans = kmeans.fit_predict(geo[['lat', 'lon']])\n",
    "y_kmeans2 = pd.get_dummies(y_kmeans)\n",
    "y_kmeans = np.array(y_kmeans)\n",
    "y_kmeans2.head()\n",
    "\n",
    "\n",
    "regressor_OLS = sm.OLS(endog=geo['price'], exog=y_kmeans2).fit()\n",
    "\n",
    "print(regressor_OLS.summary())\n",
    "\n",
    "#utilizar latidade e longitude não parece ser uma boa ideia,\n",
    "#o valor de R-square está muito baixo"
   ]
  },
  {
   "cell_type": "markdown",
   "metadata": {},
   "source": [
    "## Análise Exploratória"
   ]
  },
  {
   "cell_type": "code",
   "execution_count": null,
   "metadata": {},
   "outputs": [],
   "source": [
    "#PREÇO SEPARADOS POR ZONA\n",
    "sns.distplot((df['price'][df['zone']=='Zona Sul']), label='Zona Sul')\n",
    "sns.distplot((df['price'][df['zone']=='Zona Norte']), label='Zona Norte')\n",
    "sns.distplot((df['price'][df['zone']=='Zona Leste']), label='Zona Leste')\n",
    "sns.distplot((df['price'][df['zone']=='Centro']), label='Centro')\n",
    "sns.distplot((df['price'][df['zone']=='Zona Oeste']), label='Zona Oeste')\n",
    "plt.legend()\n",
    "\n",
    "\"\"\"\n",
    "Zona possui relação com preço\n",
    "\"\"\""
   ]
  },
  {
   "cell_type": "code",
   "execution_count": null,
   "metadata": {},
   "outputs": [],
   "source": [
    "sns.distplot(df['price'][df['tipo']=='SALE'], label='SALE')\n",
    "sns.distplot(df['price'][df['tipo']=='RENTAL'], label='RENTAL')\n",
    "plt.legend()\n",
    "plt.show()\n",
    "\n",
    "\n",
    "sns.boxplot(df['price'], df['tipo'])\n",
    "plt.show()\n",
    "\n",
    "print(stats.skew(df['price']))\n",
    "print(stats.kurtosis(df['price']))\n",
    "\"\"\"\n",
    "parece que o grande divisor de águas é o tipo de negócio (Venda ou aluguel)\n",
    "\"\"\""
   ]
  },
  {
   "cell_type": "code",
   "execution_count": null,
   "metadata": {},
   "outputs": [],
   "source": [
    "df_test = df[(df['unitTypes']=='APARTMENT') | (df['unitTypes']=='TWO_STORY_HOUSE') |\n",
    "             (df['unitTypes']=='HOME') | (df['unitTypes']=='CONDOMINIUM')]\n",
    "\n",
    "sns.boxplot((df_test['price']),df_test['unitTypes'])\n",
    "\n",
    "\"\"\"\n",
    "Os dados entre os principais tipos de imóvel não diferem tanto,\n",
    "excluiu-se eles\n",
    "\"\"\""
   ]
  },
  {
   "cell_type": "code",
   "execution_count": null,
   "metadata": {},
   "outputs": [],
   "source": [
    "df_test = df[(df['logradouro']=='Rua') | (df['logradouro']=='Avenida')]\n",
    "\n",
    "sns.distplot(((df_test['price'][df_test['logradouro']=='Rua'])), label='Rua')\n",
    "sns.distplot(((df_test['price'][df_test['logradouro']=='Avenida'])), label='Avenida')\n",
    "plt.legend()\n",
    "\n",
    "print(stats.ttest_ind(df_test['price'][df_test['logradouro']=='Rua'],\n",
    "               df_test['price'][df_test['logradouro']=='Avenida']))\n",
    "\n",
    "\"\"\"\n",
    "Não utilizou-se o logradouro, pois o valor-p está alto demais\n",
    "iria-se somente acrescentar desinformação\n",
    "\"\"\""
   ]
  },
  {
   "cell_type": "markdown",
   "metadata": {},
   "source": [
    "## Eliminando Outliers"
   ]
  },
  {
   "cell_type": "code",
   "execution_count": 9,
   "metadata": {},
   "outputs": [],
   "source": [
    "#cópia de segurança\n",
    "df3 = df.copy()\n",
    "\n",
    "#Excluiu-se algumas features que apresentaram acrescentar pouca informação ao preço\n",
    "df3 = df3.drop(['publicationType', 'totalAreas', 'unitTypes', 'logradouro'], axis=1)"
   ]
  },
  {
   "cell_type": "markdown",
   "metadata": {},
   "source": [
    "A eliminação de outliers foram tratadas conforme as particularidades do tipo de venda (Venda ou Aluguel)"
   ]
  },
  {
   "cell_type": "code",
   "execution_count": 10,
   "metadata": {},
   "outputs": [],
   "source": [
    "def outliers(df3, tipo):\n",
    "\n",
    "    df3 = df3[df3['tipo']==tipo]\n",
    "\n",
    "    # ---ELIMINANDO OUTLIERS GERAIS ---\n",
    "\n",
    "    \n",
    "    \n",
    "\n",
    "    #eliminando outliers de price\n",
    "    coluna = 'price'\n",
    "    maximo = df3[coluna].quantile(.75) + (df3[coluna].quantile(.75)-\n",
    "                                         df3[coluna].quantile(.25))*1.5\n",
    "    minimo = df3[coluna].quantile(.25) - (df3[coluna].quantile(.75)-\n",
    "                                         df3[coluna].quantile(.25))*1.5\n",
    "    \n",
    "\n",
    "\n",
    "    df3 = df3[(df3[coluna]<maximo) & (df3[coluna]>minimo)]\n",
    "    \n",
    "    \n",
    "    \n",
    "    #eliminando outliers de bathrooms\n",
    "    coluna = 'bathrooms'\n",
    "    maximo = df3[coluna].quantile(.75) + (df3[coluna].quantile(.75)-\n",
    "                                         df3[coluna].quantile(.25))*1.5\n",
    "    minimo = df3[coluna].quantile(.25) - (df3[coluna].quantile(.75)-\n",
    "                                         df3[coluna].quantile(.25))*1.5\n",
    "    \n",
    "\n",
    "\n",
    "    df3 = df3[(df3[coluna]<maximo) & (df3[coluna]>minimo)]\n",
    "\n",
    "    \n",
    "\n",
    "    #eliminando outliers de bedrooms\n",
    "\n",
    "    coluna = 'bedrooms'\n",
    "    maximo = df3[coluna].quantile(.75) + (df3[coluna].quantile(.75)-\n",
    "                                         df3[coluna].quantile(.25))*1.5\n",
    "    minimo = df3[coluna].quantile(.25) - (df3[coluna].quantile(.75)-\n",
    "                                         df3[coluna].quantile(.25))*1.5\n",
    "    \n",
    "\n",
    "    df3 = df3[(df3[coluna]<maximo) & (df3[coluna]>minimo)]\n",
    "\n",
    "    #eliminando outliers de parkingSpaces\n",
    "\n",
    "    coluna = 'parkingSpaces'\n",
    "    maximo = df3[coluna].quantile(.75) + (df3[coluna].quantile(.75)-\n",
    "                                         df3[coluna].quantile(.25))*1.5\n",
    "    minimo = df3[coluna].quantile(.25) - (df3[coluna].quantile(.75)-\n",
    "                                         df3[coluna].quantile(.25))*1.5\n",
    "    \n",
    "\n",
    "    \n",
    "    df3 = df3[(df3[coluna]<maximo) & (df3[coluna]>minimo)]\n",
    "\n",
    "    \n",
    "\n",
    "    df3 = df3.reset_index(drop=True)\n",
    "\n",
    "    # --- ELIMINANDO OUTLIERS POR CATEGORIA ---\n",
    "\n",
    "    #eliminando outliers de bathrooms\n",
    "    coluna = 'bathrooms'\n",
    "\n",
    "    vetor = []\n",
    "\n",
    "    for i in range(int(df3[coluna].min()),int((df3[coluna].max()+1))):\n",
    "        bd = df3[df3[coluna]==i]\n",
    "\n",
    "        maximo = bd['price'].quantile(.75) + (bd['price'].quantile(.75)-\n",
    "                                             bd['price'].quantile(.25))*1.5\n",
    "        minimo = bd['price'].quantile(.25) - (bd['price'].quantile(.75)-\n",
    "                                             bd['price'].quantile(.25))*1.5\n",
    "        vetor.append([maximo, minimo])\n",
    "\n",
    "    df3[coluna] = df3[coluna].astype('int')\n",
    "\n",
    "    a_deletar = []\n",
    "    for i in range(len(df3)):\n",
    "        qnt_ban = df3[coluna][i]\n",
    "        if((df3['price'][i]>vetor[qnt_ban][0]) | (df3['price'][i]<vetor[qnt_ban][1])):\n",
    "            a_deletar.append(i)\n",
    "\n",
    "    df3 = df3.drop(a_deletar, axis=0)\n",
    "    df3 = df3.reset_index(drop=True) \n",
    "\n",
    "    #eliminando outliers de bedrooms\n",
    "    coluna = 'bedrooms'\n",
    "\n",
    "    vetor = []\n",
    "\n",
    "    for i in range(int(df3[coluna].min()),int((df3[coluna].max()+1))):\n",
    "        bd = df3[df3[coluna]==i]\n",
    "\n",
    "        maximo = bd['price'].quantile(.75) + (bd['price'].quantile(.75)-\n",
    "                                             bd['price'].quantile(.25))*1.5\n",
    "        minimo = bd['price'].quantile(.25) - (bd['price'].quantile(.75)-\n",
    "                                             bd['price'].quantile(.25))*1.5\n",
    "        vetor.append([maximo, minimo])\n",
    "\n",
    "    df3[coluna] = df3[coluna].astype('int')\n",
    "\n",
    "    \n",
    "\n",
    "    a_deletar = []\n",
    "    for i in range(len(df3)):\n",
    "        qnt_ban = df3[coluna][i]-1\n",
    "        if((df3['price'][i]>vetor[qnt_ban][0]) | (df3['price'][i]<vetor[qnt_ban][1])):\n",
    "            a_deletar.append(i)\n",
    "\n",
    "    df3 = df3.drop(a_deletar, axis=0)\n",
    "    df3 = df3.reset_index(drop=True) \n",
    "\n",
    "    #eliminando outliers de parkingSpaces\n",
    "    coluna = 'parkingSpaces'\n",
    "\n",
    "    vetor = []\n",
    "\n",
    "    for i in range(int(df3[coluna].min()),int((df3[coluna].max()+1))):\n",
    "        bd = df3[df3[coluna]==i]\n",
    "\n",
    "        maximo = bd['price'].quantile(.75) + (bd['price'].quantile(.75)-\n",
    "                                             bd['price'].quantile(.25))*1.5\n",
    "        minimo = bd['price'].quantile(.25) - (bd['price'].quantile(.75)-\n",
    "                                             bd['price'].quantile(.25))*1.5\n",
    "        vetor.append([maximo, minimo])\n",
    "\n",
    "    df3[coluna] = df3[coluna].astype('int')\n",
    "    \n",
    "\n",
    "    a_deletar = []\n",
    "    for i in range(len(df3)):\n",
    "        qnt_ban = df3[coluna][i]\n",
    "        if((df3['price'][i]>vetor[qnt_ban][0]) | (df3['price'][i]<vetor[qnt_ban][1])):\n",
    "            a_deletar.append(i)\n",
    "\n",
    "    df3 = df3.drop(a_deletar, axis=0)\n",
    "    df3 = df3.reset_index(drop=True) \n",
    "    \n",
    "    return df3"
   ]
  },
  {
   "cell_type": "code",
   "execution_count": 11,
   "metadata": {},
   "outputs": [],
   "source": [
    "junta = outliers(df3, 'SALE')\n",
    "junta = junta.append(outliers(df3, 'RENTAL'))"
   ]
  },
  {
   "cell_type": "code",
   "execution_count": 12,
   "metadata": {},
   "outputs": [],
   "source": [
    "#Tratamento da feature Zone\n",
    "zonas = pd.get_dummies(junta['zone'], drop_first=True)\n",
    "junta = junta.drop('zone', axis=1)\n",
    "junta['Zona Leste'] = zonas['Zona Leste']\n",
    "junta['Zona Norte'] = zonas['Zona Norte']\n",
    "junta['Zona Oeste'] = zonas['Zona Oeste']\n",
    "junta['Zona Sul'] = zonas['Zona Sul']"
   ]
  },
  {
   "cell_type": "code",
   "execution_count": 13,
   "metadata": {},
   "outputs": [],
   "source": [
    "lb_tipo = LabelEncoder()\n",
    "junta['tipo'] = lb_tipo.fit_transform(junta['tipo'])\n"
   ]
  },
  {
   "cell_type": "markdown",
   "metadata": {},
   "source": [
    "Statsmodels"
   ]
  },
  {
   "cell_type": "code",
   "execution_count": null,
   "metadata": {},
   "outputs": [],
   "source": [
    "#não vamos utilizar bairro, porque iria criar muitas dummy variables\n",
    "X = junta[['bathrooms', 'bedrooms', 'parkingSpaces', 'usableAreas', 'tipo', 'Zona Norte', 'Zona Oeste', 'Zona Leste', 'Zona Sul']]\n",
    "y = junta[['price']]\n",
    "\n",
    "regressor_OLS = sm.OLS(endog=y, exog=X).fit()\n",
    "\n",
    "print(regressor_OLS.summary())\n"
   ]
  },
  {
   "cell_type": "code",
   "execution_count": 14,
   "metadata": {},
   "outputs": [
    {
     "name": "stdout",
     "output_type": "stream",
     "text": [
      "                            OLS Regression Results                            \n",
      "==============================================================================\n",
      "Dep. Variable:                  price   R-squared:                       0.998\n",
      "Model:                            OLS   Adj. R-squared:                  0.998\n",
      "Method:                 Least Squares   F-statistic:                 4.426e+06\n",
      "Date:                Thu, 29 Aug 2019   Prob (F-statistic):               0.00\n",
      "Time:                        17:40:59   Log-Likelihood:                -50714.\n",
      "No. Observations:               65840   AIC:                         1.014e+05\n",
      "Df Residuals:                   65832   BIC:                         1.015e+05\n",
      "Df Model:                           8                                         \n",
      "Covariance Type:            nonrobust                                         \n",
      "===============================================================================\n",
      "                  coef    std err          t      P>|t|      [0.025      0.975]\n",
      "-------------------------------------------------------------------------------\n",
      "bathrooms       0.0228      0.002     13.230      0.000       0.019       0.026\n",
      "bedrooms       -0.1204      0.002    -48.876      0.000      -0.125      -0.116\n",
      "usableAreas     5.2954      0.005   1166.489      0.000       5.287       5.304\n",
      "tipo            5.2809      0.005    971.497      0.000       5.270       5.292\n",
      "Zona Norte     -0.2207      0.006    -37.990      0.000      -0.232      -0.209\n",
      "Zona Oeste      0.0415      0.007      6.027      0.000       0.028       0.055\n",
      "Zona Sul        0.1044      0.006     18.105      0.000       0.093       0.116\n",
      "Zona Leste      0.0580      0.007      7.955      0.000       0.044       0.072\n",
      "==============================================================================\n",
      "Omnibus:                    17912.830   Durbin-Watson:                   1.680\n",
      "Prob(Omnibus):                  0.000   Jarque-Bera (JB):           581112.386\n",
      "Skew:                           0.665   Prob(JB):                         0.00\n",
      "Kurtosis:                      17.493   Cond. No.                         19.4\n",
      "==============================================================================\n",
      "\n",
      "Warnings:\n",
      "[1] Standard Errors assume that the covariance matrix of the errors is correctly specified.\n"
     ]
    },
    {
     "data": {
      "text/plain": [
       "'\\nEliminou-se parkingSpaces por estar acrescentando desinformação\\nE \\n'"
      ]
     },
     "execution_count": 14,
     "metadata": {},
     "output_type": "execute_result"
    }
   ],
   "source": [
    "X = junta[['bathrooms', 'bedrooms', 'usableAreas', 'tipo', 'Zona Norte', 'Zona Oeste', 'Zona Sul', 'Zona Leste']]\n",
    "y = junta[['price']]\n",
    "\n",
    "regressor_OLS = sm.OLS(endog=y, exog=X).fit()\n",
    "\n",
    "print(regressor_OLS.summary())\n",
    "\n",
    "\"\"\"\n",
    "Eliminou-se parkingSpaces por estar acrescentando desinformação\n",
    "E \n",
    "\"\"\""
   ]
  },
  {
   "cell_type": "markdown",
   "metadata": {},
   "source": [
    "## Modelos"
   ]
  },
  {
   "cell_type": "code",
   "execution_count": 15,
   "metadata": {},
   "outputs": [
    {
     "name": "stderr",
     "output_type": "stream",
     "text": [
      "c:\\users\\bruno\\appdata\\local\\programs\\python\\python36\\lib\\site-packages\\ipykernel_launcher.py:12: SettingWithCopyWarning: \n",
      "A value is trying to be set on a copy of a slice from a DataFrame.\n",
      "Try using .loc[row_indexer,col_indexer] = value instead\n",
      "\n",
      "See the caveats in the documentation: http://pandas.pydata.org/pandas-docs/stable/indexing.html#indexing-view-versus-copy\n",
      "  if sys.path[0] == '':\n",
      "c:\\users\\bruno\\appdata\\local\\programs\\python\\python36\\lib\\site-packages\\ipykernel_launcher.py:14: SettingWithCopyWarning: \n",
      "A value is trying to be set on a copy of a slice from a DataFrame.\n",
      "Try using .loc[row_indexer,col_indexer] = value instead\n",
      "\n",
      "See the caveats in the documentation: http://pandas.pydata.org/pandas-docs/stable/indexing.html#indexing-view-versus-copy\n",
      "  \n"
     ]
    }
   ],
   "source": [
    "mm_usableAreas = MinMaxScaler(feature_range=(0, 1))\n",
    "mm_price = MinMaxScaler(feature_range=(0, 1))\n",
    "\n",
    "\n",
    "from sklearn.model_selection import train_test_split\n",
    "X_train, X_test, y_train, y_test = train_test_split(X, y, test_size = 0.18, random_state = 0)\n",
    "\n",
    "y_train = mm_price.fit_transform(y_train)\n",
    "y_test = mm_price.transform(y_test)\n",
    "\n",
    "\n",
    "X_train['usableAreas'] = mm_usableAreas.fit_transform(X_train[['usableAreas']])\n",
    "\n",
    "X_test['usableAreas'] = mm_usableAreas.transform(X_test[['usableAreas']])"
   ]
  },
  {
   "cell_type": "code",
   "execution_count": 16,
   "metadata": {},
   "outputs": [],
   "source": [
    "X_train = X_train.values\n",
    "X_test = X_test.values"
   ]
  },
  {
   "cell_type": "code",
   "execution_count": 17,
   "metadata": {},
   "outputs": [
    {
     "name": "stderr",
     "output_type": "stream",
     "text": [
      "c:\\users\\bruno\\appdata\\local\\programs\\python\\python36\\lib\\site-packages\\sklearn\\ensemble\\gradient_boosting.py:1450: DataConversionWarning: A column-vector y was passed when a 1d array was expected. Please change the shape of y to (n_samples, ), for example using ravel().\n",
      "  y = column_or_1d(y, warn=True)\n"
     ]
    }
   ],
   "source": [
    "from sklearn.ensemble import GradientBoostingRegressor\n",
    "classifier = GradientBoostingRegressor()\n",
    "classifier.fit(X_train, y_train)\n",
    "y_pred = classifier.predict(X_test)"
   ]
  },
  {
   "cell_type": "code",
   "execution_count": 18,
   "metadata": {},
   "outputs": [],
   "source": [
    "y_test2 = np.exp(mm_price.inverse_transform(y_test))\n",
    "y_pred2 = np.exp(mm_price.inverse_transform(y_pred.reshape(-1,1)))"
   ]
  },
  {
   "cell_type": "code",
   "execution_count": 19,
   "metadata": {},
   "outputs": [
    {
     "name": "stdout",
     "output_type": "stream",
     "text": [
      "MAPE = 31.688862397173985, RMSE = 264172.6713128313\n"
     ]
    }
   ],
   "source": [
    "mape = (np.mean(np.abs(((y_test2) - (y_pred2)) / (y_test2))) * 100)\n",
    "rmse = np.sqrt(mean_squared_error(y_test2, y_pred2))\n",
    "\n",
    "print('MAPE = {}, RMSE = {}'.format(mape, rmse))\n",
    "\n"
   ]
  },
  {
   "cell_type": "code",
   "execution_count": 20,
   "metadata": {},
   "outputs": [
    {
     "data": {
      "text/plain": [
       "array([9.53048658e-03, 3.59708460e-03, 6.09619830e-02, 9.23230620e-01,\n",
       "       2.55254629e-03, 3.76027443e-05, 7.74540639e-05, 1.22231772e-05])"
      ]
     },
     "execution_count": 20,
     "metadata": {},
     "output_type": "execute_result"
    }
   ],
   "source": [
    "classifier.feature_importances_"
   ]
  },
  {
   "cell_type": "markdown",
   "metadata": {},
   "source": [
    "## Aprimoramento"
   ]
  },
  {
   "cell_type": "code",
   "execution_count": null,
   "metadata": {},
   "outputs": [],
   "source": [
    "from sklearn.model_selection import cross_val_score, cross_val_predict, check_cv\n",
    "accuracies = cross_val_score(estimator = classifier, X = X_train, y = y_train, cv = 5)\n",
    "predict = cross_val_predict(estimator=classifier, X=X_train, y= y_train, cv = 5)"
   ]
  },
  {
   "cell_type": "code",
   "execution_count": null,
   "metadata": {},
   "outputs": [],
   "source": [
    "accuracies.mean()"
   ]
  },
  {
   "cell_type": "markdown",
   "metadata": {},
   "source": [
    "Validação Cruzada"
   ]
  },
  {
   "cell_type": "code",
   "execution_count": 21,
   "metadata": {},
   "outputs": [],
   "source": [
    "from sklearn.model_selection import GridSearchCV\n",
    "parameters = [{'n_estimators': [600, 900], 'learning_rate': [0.1],\n",
    "              'loss': ['ls']}]\n",
    "grid_search = GridSearchCV(estimator = classifier,\n",
    "                           param_grid = parameters,\n",
    "                           scoring = 'neg_mean_absolute_error',\n",
    "                           cv = 10,\n",
    "                           )"
   ]
  },
  {
   "cell_type": "code",
   "execution_count": 22,
   "metadata": {},
   "outputs": [
    {
     "name": "stderr",
     "output_type": "stream",
     "text": [
      "c:\\users\\bruno\\appdata\\local\\programs\\python\\python36\\lib\\site-packages\\sklearn\\ensemble\\gradient_boosting.py:1450: DataConversionWarning: A column-vector y was passed when a 1d array was expected. Please change the shape of y to (n_samples, ), for example using ravel().\n",
      "  y = column_or_1d(y, warn=True)\n",
      "c:\\users\\bruno\\appdata\\local\\programs\\python\\python36\\lib\\site-packages\\sklearn\\ensemble\\gradient_boosting.py:1450: DataConversionWarning: A column-vector y was passed when a 1d array was expected. Please change the shape of y to (n_samples, ), for example using ravel().\n",
      "  y = column_or_1d(y, warn=True)\n",
      "c:\\users\\bruno\\appdata\\local\\programs\\python\\python36\\lib\\site-packages\\sklearn\\ensemble\\gradient_boosting.py:1450: DataConversionWarning: A column-vector y was passed when a 1d array was expected. Please change the shape of y to (n_samples, ), for example using ravel().\n",
      "  y = column_or_1d(y, warn=True)\n",
      "c:\\users\\bruno\\appdata\\local\\programs\\python\\python36\\lib\\site-packages\\sklearn\\ensemble\\gradient_boosting.py:1450: DataConversionWarning: A column-vector y was passed when a 1d array was expected. Please change the shape of y to (n_samples, ), for example using ravel().\n",
      "  y = column_or_1d(y, warn=True)\n",
      "c:\\users\\bruno\\appdata\\local\\programs\\python\\python36\\lib\\site-packages\\sklearn\\ensemble\\gradient_boosting.py:1450: DataConversionWarning: A column-vector y was passed when a 1d array was expected. Please change the shape of y to (n_samples, ), for example using ravel().\n",
      "  y = column_or_1d(y, warn=True)\n",
      "c:\\users\\bruno\\appdata\\local\\programs\\python\\python36\\lib\\site-packages\\sklearn\\ensemble\\gradient_boosting.py:1450: DataConversionWarning: A column-vector y was passed when a 1d array was expected. Please change the shape of y to (n_samples, ), for example using ravel().\n",
      "  y = column_or_1d(y, warn=True)\n",
      "c:\\users\\bruno\\appdata\\local\\programs\\python\\python36\\lib\\site-packages\\sklearn\\ensemble\\gradient_boosting.py:1450: DataConversionWarning: A column-vector y was passed when a 1d array was expected. Please change the shape of y to (n_samples, ), for example using ravel().\n",
      "  y = column_or_1d(y, warn=True)\n",
      "c:\\users\\bruno\\appdata\\local\\programs\\python\\python36\\lib\\site-packages\\sklearn\\ensemble\\gradient_boosting.py:1450: DataConversionWarning: A column-vector y was passed when a 1d array was expected. Please change the shape of y to (n_samples, ), for example using ravel().\n",
      "  y = column_or_1d(y, warn=True)\n",
      "c:\\users\\bruno\\appdata\\local\\programs\\python\\python36\\lib\\site-packages\\sklearn\\ensemble\\gradient_boosting.py:1450: DataConversionWarning: A column-vector y was passed when a 1d array was expected. Please change the shape of y to (n_samples, ), for example using ravel().\n",
      "  y = column_or_1d(y, warn=True)\n",
      "c:\\users\\bruno\\appdata\\local\\programs\\python\\python36\\lib\\site-packages\\sklearn\\ensemble\\gradient_boosting.py:1450: DataConversionWarning: A column-vector y was passed when a 1d array was expected. Please change the shape of y to (n_samples, ), for example using ravel().\n",
      "  y = column_or_1d(y, warn=True)\n",
      "c:\\users\\bruno\\appdata\\local\\programs\\python\\python36\\lib\\site-packages\\sklearn\\ensemble\\gradient_boosting.py:1450: DataConversionWarning: A column-vector y was passed when a 1d array was expected. Please change the shape of y to (n_samples, ), for example using ravel().\n",
      "  y = column_or_1d(y, warn=True)\n",
      "c:\\users\\bruno\\appdata\\local\\programs\\python\\python36\\lib\\site-packages\\sklearn\\ensemble\\gradient_boosting.py:1450: DataConversionWarning: A column-vector y was passed when a 1d array was expected. Please change the shape of y to (n_samples, ), for example using ravel().\n",
      "  y = column_or_1d(y, warn=True)\n",
      "c:\\users\\bruno\\appdata\\local\\programs\\python\\python36\\lib\\site-packages\\sklearn\\ensemble\\gradient_boosting.py:1450: DataConversionWarning: A column-vector y was passed when a 1d array was expected. Please change the shape of y to (n_samples, ), for example using ravel().\n",
      "  y = column_or_1d(y, warn=True)\n",
      "c:\\users\\bruno\\appdata\\local\\programs\\python\\python36\\lib\\site-packages\\sklearn\\ensemble\\gradient_boosting.py:1450: DataConversionWarning: A column-vector y was passed when a 1d array was expected. Please change the shape of y to (n_samples, ), for example using ravel().\n",
      "  y = column_or_1d(y, warn=True)\n",
      "c:\\users\\bruno\\appdata\\local\\programs\\python\\python36\\lib\\site-packages\\sklearn\\ensemble\\gradient_boosting.py:1450: DataConversionWarning: A column-vector y was passed when a 1d array was expected. Please change the shape of y to (n_samples, ), for example using ravel().\n",
      "  y = column_or_1d(y, warn=True)\n",
      "c:\\users\\bruno\\appdata\\local\\programs\\python\\python36\\lib\\site-packages\\sklearn\\ensemble\\gradient_boosting.py:1450: DataConversionWarning: A column-vector y was passed when a 1d array was expected. Please change the shape of y to (n_samples, ), for example using ravel().\n",
      "  y = column_or_1d(y, warn=True)\n",
      "c:\\users\\bruno\\appdata\\local\\programs\\python\\python36\\lib\\site-packages\\sklearn\\ensemble\\gradient_boosting.py:1450: DataConversionWarning: A column-vector y was passed when a 1d array was expected. Please change the shape of y to (n_samples, ), for example using ravel().\n",
      "  y = column_or_1d(y, warn=True)\n",
      "c:\\users\\bruno\\appdata\\local\\programs\\python\\python36\\lib\\site-packages\\sklearn\\ensemble\\gradient_boosting.py:1450: DataConversionWarning: A column-vector y was passed when a 1d array was expected. Please change the shape of y to (n_samples, ), for example using ravel().\n",
      "  y = column_or_1d(y, warn=True)\n",
      "c:\\users\\bruno\\appdata\\local\\programs\\python\\python36\\lib\\site-packages\\sklearn\\ensemble\\gradient_boosting.py:1450: DataConversionWarning: A column-vector y was passed when a 1d array was expected. Please change the shape of y to (n_samples, ), for example using ravel().\n",
      "  y = column_or_1d(y, warn=True)\n",
      "c:\\users\\bruno\\appdata\\local\\programs\\python\\python36\\lib\\site-packages\\sklearn\\ensemble\\gradient_boosting.py:1450: DataConversionWarning: A column-vector y was passed when a 1d array was expected. Please change the shape of y to (n_samples, ), for example using ravel().\n",
      "  y = column_or_1d(y, warn=True)\n",
      "c:\\users\\bruno\\appdata\\local\\programs\\python\\python36\\lib\\site-packages\\sklearn\\ensemble\\gradient_boosting.py:1450: DataConversionWarning: A column-vector y was passed when a 1d array was expected. Please change the shape of y to (n_samples, ), for example using ravel().\n",
      "  y = column_or_1d(y, warn=True)\n"
     ]
    }
   ],
   "source": [
    "grid_search = grid_search.fit(X_train, y_train)"
   ]
  },
  {
   "cell_type": "code",
   "execution_count": 23,
   "metadata": {},
   "outputs": [
    {
     "name": "stdout",
     "output_type": "stream",
     "text": [
      "{'learning_rate': 0.1, 'loss': 'ls', 'n_estimators': 900}\n",
      "[9.53048658e-03 3.59708460e-03 6.09619830e-02 9.23230620e-01\n",
      " 2.55254629e-03 3.76027443e-05 7.74540639e-05 1.22231772e-05]\n"
     ]
    }
   ],
   "source": [
    "print(grid_search.best_params_)\n",
    "print(grid_search.estimator.feature_importances_)"
   ]
  },
  {
   "cell_type": "code",
   "execution_count": 24,
   "metadata": {},
   "outputs": [],
   "source": [
    "y_pred = grid_search.predict(X_test)"
   ]
  },
  {
   "cell_type": "code",
   "execution_count": 25,
   "metadata": {},
   "outputs": [],
   "source": [
    "y_test2 = np.exp(mm_price.inverse_transform(y_test))\n",
    "y_pred2 = np.exp(mm_price.inverse_transform(y_pred.reshape(-1,1)))"
   ]
  },
  {
   "cell_type": "code",
   "execution_count": 26,
   "metadata": {},
   "outputs": [
    {
     "name": "stdout",
     "output_type": "stream",
     "text": [
      "MAPE = 30.852569991020374, RMSE = 257355.6044938985\n"
     ]
    }
   ],
   "source": [
    "mape = (np.mean(np.abs(((y_test2) - (y_pred2)) / (y_test2))) * 100)\n",
    "rmse = np.sqrt(mean_squared_error(y_test2, y_pred2))\n",
    "\n",
    "print('MAPE = {}, RMSE = {}'.format(mape, rmse))"
   ]
  },
  {
   "cell_type": "markdown",
   "metadata": {},
   "source": [
    "Melhor Faixa de preço"
   ]
  },
  {
   "cell_type": "code",
   "execution_count": 27,
   "metadata": {},
   "outputs": [
    {
     "data": {
      "text/plain": [
       "Text(0, 0.5, 'pred')"
      ]
     },
     "execution_count": 27,
     "metadata": {},
     "output_type": "execute_result"
    },
    {
     "data": {
      "image/png": "[encoded data removed]",
      "text/plain": [
       "<Figure size 432x288 with 1 Axes>"
      ]
     },
     "metadata": {
      "needs_background": "light"
     },
     "output_type": "display_data"
    }
   ],
   "source": [
    "plt.scatter(y_test2, y_pred2)\n",
    "plt.xlabel('test')\n",
    "plt.ylabel('pred')"
   ]
  },
  {
   "cell_type": "code",
   "execution_count": 28,
   "metadata": {},
   "outputs": [],
   "source": [
    "y_test3 = []\n",
    "y_pred3 = []\n",
    "for i in range(len(y_test2)):\n",
    "    y_test3.append(y_test2[i][0])\n",
    "    y_pred3.append(y_pred2[i][0])\n",
    "    \n",
    "y_test3 = np.array(y_test3)\n",
    "y_pred3 = np.array(y_pred3)"
   ]
  },
  {
   "cell_type": "code",
   "execution_count": 29,
   "metadata": {},
   "outputs": [],
   "source": [
    "erros = pd.DataFrame(y_test3, y_pred3)\n",
    "erros = erros.reset_index()\n",
    "erros.columns = ['test', 'pred']\n",
    "\n",
    "erros = erros.round()"
   ]
  },
  {
   "cell_type": "code",
   "execution_count": 30,
   "metadata": {},
   "outputs": [],
   "source": [
    "erros = erros.sort_values('test')\n",
    "erros = erros.reset_index(drop=True)"
   ]
  },
  {
   "cell_type": "code",
   "execution_count": 31,
   "metadata": {},
   "outputs": [],
   "source": [
    "erros['erro'] =  erros['test'] - erros['pred']"
   ]
  },
  {
   "cell_type": "code",
   "execution_count": 32,
   "metadata": {},
   "outputs": [],
   "source": [
    "cat_erro = []\n",
    "for i in range(0, 13000, 100):\n",
    "    cat_erro.append(erros['erro'][i:i+100].mean())"
   ]
  },
  {
   "cell_type": "code",
   "execution_count": 33,
   "metadata": {},
   "outputs": [
    {
     "data": {
      "text/plain": [
       "array([  5,  10,   0,   1,   9,   7,   8,   3,   2,  11,   4,   6,  13,\n",
       "        12,  16,  15,  17,  14,  44,  27,  20,  19,  88,  21,  26,  24,\n",
       "        18,  22,  25,  23,  99,  28,  50,  56,  51,  35,  36,  34,  29,\n",
       "        48,  94,  49,  98,  57,  42,  32,  31,  87,  45,  54,  40,  38,\n",
       "        33, 103,  37,  66,  30, 100,  39,  93,  59,  53, 105,  74,  46,\n",
       "        41,  43,  73,  70,  81,  60,  65,  86,  63,  84,  52,  69,  90,\n",
       "        47,  67,  64,  55,  62,  80,  71,  72,  82,  92,  75,  68,  78,\n",
       "        58,  76,  96,  77,  61,  79, 107, 101, 114,  83,  95,  85, 102,\n",
       "       109,  89,  97,  91, 117, 108, 115, 112, 104, 110, 111, 106, 113,\n",
       "       118, 116, 128, 119, 120, 121, 122, 123, 124, 125, 126, 127, 129],\n",
       "      dtype=int64)"
      ]
     },
     "execution_count": 33,
     "metadata": {},
     "output_type": "execute_result"
    }
   ],
   "source": [
    "np.array(np.abs(cat_erro)).argsort()"
   ]
  },
  {
   "cell_type": "code",
   "execution_count": 38,
   "metadata": {},
   "outputs": [
    {
     "name": "stdout",
     "output_type": "stream",
     "text": [
      "-82.34\n",
      "-82.34\n"
     ]
    }
   ],
   "source": [
    "print(cat_erro[5])\n",
    "print(erros['erro'][500:600].mean())"
   ]
  },
  {
   "cell_type": "markdown",
   "metadata": {},
   "source": [
    "A melhor faixa de preço deste modelo é de 500 - 600 reais"
   ]
  },
  {
   "cell_type": "markdown",
   "metadata": {},
   "source": [
    "## Submetendo Dados de Avaliação"
   ]
  },
  {
   "cell_type": "code",
   "execution_count": 39,
   "metadata": {},
   "outputs": [],
   "source": [
    "test = []\n",
    "with open('F:/Bruno 02/Datasets/GrupoZap/source-4-ds-test.json', encoding=\"utf8\") as f:\n",
    "    for line in f:\n",
    "        test.append(json.loads(line))"
   ]
  },
  {
   "cell_type": "code",
   "execution_count": 40,
   "metadata": {},
   "outputs": [],
   "source": [
    "test = pd.DataFrame(test)"
   ]
  },
  {
   "cell_type": "code",
   "execution_count": 41,
   "metadata": {},
   "outputs": [],
   "source": [
    "#função\n",
    "\n",
    "\n",
    "\n",
    "bairro = []\n",
    "for i in range(len(test)):\n",
    "    try:\n",
    "        bairro.append(str.split(data[i]['address']['locationId'], \">\")[-1])\n",
    "    except:\n",
    "        bairro.append(np.nan)\n",
    "\n",
    "tipo = []\n",
    "for i in range(len(test)):\n",
    "    try:\n",
    "        tipo.append(test['pricingInfos'][i]['businessType'])\n",
    "    except:\n",
    "        tipo.append(np.nan)\n",
    "\n",
    "\n",
    "\n",
    "zone = []\n",
    "for i in range(len(test)):\n",
    "    try:\n",
    "        zone.append(test['address'][i]['zone'])\n",
    "    except:\n",
    "        zone.append(np.nan)\n",
    "        \n",
    "\n",
    "test['zone'] = zone\n",
    "test['tipo'] = tipo\n",
    "test['bairro'] = bairro\n",
    "\n",
    "\n",
    "test = test.drop(['address', 'createdAt', 'description', 'id', 'images', 'listingStatus',\n",
    "               'pricingInfos', 'publisherId', 'title', 'updatedAt'], axis=1)\n"
   ]
  },
  {
   "cell_type": "code",
   "execution_count": 42,
   "metadata": {},
   "outputs": [
    {
     "name": "stderr",
     "output_type": "stream",
     "text": [
      "c:\\users\\bruno\\appdata\\local\\programs\\python\\python36\\lib\\site-packages\\ipykernel_launcher.py:1: RuntimeWarning: divide by zero encountered in log\n",
      "  \"\"\"Entry point for launching an IPython kernel.\n"
     ]
    }
   ],
   "source": [
    "test['usableAreas'] = np.log(test['usableAreas'])"
   ]
  },
  {
   "cell_type": "code",
   "execution_count": 43,
   "metadata": {},
   "outputs": [],
   "source": [
    "preenche_zone = test.copy()\n",
    "preenche_zone = preenche_zone[preenche_zone['zone']!=\"\"]\n",
    "preenche_zone = dict(zip(preenche_zone['bairro'], preenche_zone['zone']))\n",
    "test['zone'] = test['bairro'].map(preenche_zone) "
   ]
  },
  {
   "cell_type": "code",
   "execution_count": 44,
   "metadata": {},
   "outputs": [],
   "source": [
    "test = test.drop(['publicationType', 'totalAreas', 'unitTypes', 'owner', 'suites', 'bairro'], axis=1)"
   ]
  },
  {
   "cell_type": "code",
   "execution_count": 45,
   "metadata": {},
   "outputs": [],
   "source": [
    "test['tipo'] = lb_tipo.transform(test['tipo'])"
   ]
  },
  {
   "cell_type": "code",
   "execution_count": 46,
   "metadata": {},
   "outputs": [],
   "source": [
    "zonas2 = pd.get_dummies(test['zone'], drop_first=True)\n",
    "test = test.drop('zone', axis=1)\n",
    "test['Zona Leste'] = zonas2['Zona Leste']\n",
    "test['Zona Norte'] = zonas2['Zona Norte']\n",
    "test['Zona Oeste'] = zonas2['Zona Oeste']\n",
    "test['Zona Sul'] = zonas2['Zona Sul']"
   ]
  },
  {
   "cell_type": "code",
   "execution_count": 58,
   "metadata": {},
   "outputs": [],
   "source": [
    "X2 = test[['bathrooms', 'bedrooms', 'usableAreas', 'tipo', 'Zona Norte', 'Zona Oeste', 'Zona Sul', 'Zona Leste']]"
   ]
  },
  {
   "cell_type": "code",
   "execution_count": 59,
   "metadata": {},
   "outputs": [
    {
     "name": "stderr",
     "output_type": "stream",
     "text": [
      "c:\\users\\bruno\\appdata\\local\\programs\\python\\python36\\lib\\site-packages\\ipykernel_launcher.py:1: SettingWithCopyWarning: \n",
      "A value is trying to be set on a copy of a slice from a DataFrame.\n",
      "Try using .loc[row_indexer,col_indexer] = value instead\n",
      "\n",
      "See the caveats in the documentation: http://pandas.pydata.org/pandas-docs/stable/indexing.html#indexing-view-versus-copy\n",
      "  \"\"\"Entry point for launching an IPython kernel.\n"
     ]
    }
   ],
   "source": [
    "X2['usableAreas'] = X2['usableAreas'].replace([np.inf, -np.inf], 0)"
   ]
  },
  {
   "cell_type": "code",
   "execution_count": 60,
   "metadata": {},
   "outputs": [
    {
     "name": "stderr",
     "output_type": "stream",
     "text": [
      "c:\\users\\bruno\\appdata\\local\\programs\\python\\python36\\lib\\site-packages\\ipykernel_launcher.py:1: SettingWithCopyWarning: \n",
      "A value is trying to be set on a copy of a slice from a DataFrame.\n",
      "Try using .loc[row_indexer,col_indexer] = value instead\n",
      "\n",
      "See the caveats in the documentation: http://pandas.pydata.org/pandas-docs/stable/indexing.html#indexing-view-versus-copy\n",
      "  \"\"\"Entry point for launching an IPython kernel.\n"
     ]
    }
   ],
   "source": [
    "X2['usableAreas'] = mm_usableAreas.transform(X2[['usableAreas']])"
   ]
  },
  {
   "cell_type": "code",
   "execution_count": 69,
   "metadata": {},
   "outputs": [
    {
     "name": "stdout",
     "output_type": "stream",
     "text": [
      "<class 'pandas.core.frame.DataFrame'>\n",
      "RangeIndex: 16036 entries, 0 to 16035\n",
      "Data columns (total 8 columns):\n",
      "bathrooms      16036 non-null float64\n",
      "bedrooms       16036 non-null int64\n",
      "usableAreas    16036 non-null float64\n",
      "tipo           16036 non-null int32\n",
      "Zona Norte     16036 non-null uint8\n",
      "Zona Oeste     16036 non-null uint8\n",
      "Zona Sul       16036 non-null uint8\n",
      "Zona Leste     16036 non-null uint8\n",
      "dtypes: float64(2), int32(1), int64(1), uint8(4)\n",
      "memory usage: 501.2 KB\n"
     ]
    }
   ],
   "source": [
    "X2.info()"
   ]
  },
  {
   "cell_type": "code",
   "execution_count": 68,
   "metadata": {},
   "outputs": [],
   "source": [
    "X2 = X2.fillna(method='backfill')"
   ]
  },
  {
   "cell_type": "code",
   "execution_count": 72,
   "metadata": {},
   "outputs": [],
   "source": [
    "y_pred2 = grid_search.predict(X2)"
   ]
  },
  {
   "cell_type": "code",
   "execution_count": 77,
   "metadata": {},
   "outputs": [
    {
     "data": {
      "text/plain": [
       "array([[ 188694.71711998],\n",
       "       [ 480489.52589417],\n",
       "       [ 606991.46981249],\n",
       "       ...,\n",
       "       [ 540614.07495464],\n",
       "       [ 391508.44841183],\n",
       "       [1173149.11469723]])"
      ]
     },
     "execution_count": 77,
     "metadata": {},
     "output_type": "execute_result"
    }
   ],
   "source": []
  },
  {
   "cell_type": "code",
   "execution_count": 76,
   "metadata": {},
   "outputs": [],
   "source": [
    "y_pred2 = np.exp(mm_price.inverse_transform(y_pred2.reshape(-1,1)))"
   ]
  },
  {
   "cell_type": "code",
   "execution_count": null,
   "metadata": {},
   "outputs": [],
   "source": [
    "pd.DataFrame(y_pred2).to_csv('exporta.csv')"
   ]
  },
  {
   "cell_type": "code",
   "execution_count": null,
   "metadata": {},
   "outputs": [],
   "source": []
  }
 ],
 "metadata": {
  "kernelspec": {
   "display_name": "Python 3",
   "language": "python",
   "name": "python3"
  },
  "language_info": {
   "codemirror_mode": {
    "name": "ipython",
    "version": 3
   },
   "file_extension": ".py",
   "mimetype": "text/x-python",
   "name": "python",
   "nbconvert_exporter": "python",
   "pygments_lexer": "ipython3",
   "version": "3.6.5"
  }
 },
 "nbformat": 4,
 "nbformat_minor": 2
}
